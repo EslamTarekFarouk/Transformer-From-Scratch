{
 "cells": [
  {
   "cell_type": "markdown",
   "metadata": {},
   "source": [
    "<p style = \"font-size: 37px\">Phases</p>\n",
    "<br>\n",
    "<ul style = \"font-size : 25px;\">\n",
    "<li ><a href = \"#Loading the data\">Loading the data</a></li>\n",
    "<br/>    \n",
    "<li><a href = \"#Data preprocessing\">Data preprocessing</a></li>\n",
    "<br/>      \n",
    "<li><a href = \"#Model Building\">Model Building</a></li>       \n",
    "</ul>   "
   ]
  },
  {
   "cell_type": "markdown",
   "metadata": {},
   "source": [
    "# Loading the Data\n",
    "<p id = \"Loading the data\"></p>"
   ]
  },
  {
   "cell_type": "code",
   "execution_count": null,
   "metadata": {},
   "outputs": [],
   "source": [
    "import re                                                  # use regular expression to deal with text\n",
    "from nltk.tokenize import sent_tokenize, word_tokenize     # for word and sentence tokenization\n",
    "from nltk.corpus import stopwords                          # to help removing stopping words\n",
    "from nltk.stem import WordNetLemmatizer                    # to lemmatize the words\n",
    "from string import punctuation                             # to remove punctuation like ? ! . etc\n",
    "import io                                                  # to read embeddings from text file\n",
    "import math                                                # to get mathmatical functions sin cos etc\n",
    "import pandas as pd                                        # to deal with dataframes    \n",
    "import numpy as np                                         # to deal with numbers and dataframes  \n",
    "import tensorflow as tf                                    # the main package to build the transformer\n",
    "import sys                                                 # good printing tool\n",
    "import pickle                                              # importing the parameters"
   ]
  },
  {
   "cell_type": "code",
   "execution_count": null,
   "metadata": {},
   "outputs": [],
   "source": [
    "# red the data as datafram\n",
    "df = pd.read_csv(r\"train.csv\")"
   ]
  },
  {
   "cell_type": "code",
   "execution_count": null,
   "metadata": {},
   "outputs": [],
   "source": [
    "# let's load the embeddings as dictionary where key is the word and value it's corresponding embbeding\n",
    "def load_vectors(fname):\n",
    "    \"\"\"\n",
    "    this function takes the path of the embeddings file 'must be from fast text'\n",
    "    and returns a dictionary where the words are keys and thier embeddings as values\n",
    "    input :\n",
    "    fname (String) ------> file path\n",
    "    output :\n",
    "    data (dictionary)----> dictionary to acess the embeddings with words as keys\n",
    "    \"\"\"\n",
    "    fin = io.open(fname, 'r', encoding='utf-8', newline='\\n', errors='ignore')\n",
    "    n, d = map(int, fin.readline().split())\n",
    "    data = {}\n",
    "    for line in fin:\n",
    "        tokens = line.rstrip().split(' ')\n",
    "        data[tokens[0]] =  tokens[1:] \n",
    "    # add pad token as zero vector\n",
    "    # we will expalain this later\n",
    "    data[\"<PAD>\"] = [0]*300    \n",
    "    return data"
   ]
  },
  {
   "cell_type": "code",
   "execution_count": null,
   "metadata": {},
   "outputs": [],
   "source": [
    "dic = load_vectors(\"wiki.simple.vec.text\")"
   ]
  },
  {
   "cell_type": "markdown",
   "metadata": {},
   "source": [
    "# Data preprocessing\n",
    "<p id = \"Data preprocessing\"></p>"
   ]
  },
  {
   "cell_type": "code",
   "execution_count": null,
   "metadata": {},
   "outputs": [],
   "source": []
  },
  {
   "cell_type": "code",
   "execution_count": null,
   "metadata": {},
   "outputs": [],
   "source": []
  },
  {
   "cell_type": "markdown",
   "metadata": {},
   "source": [
    "# Model Building\n",
    "<p id = \"Model Building\"></p>"
   ]
  },
  {
   "cell_type": "code",
   "execution_count": null,
   "metadata": {},
   "outputs": [],
   "source": []
  },
  {
   "cell_type": "code",
   "execution_count": null,
   "metadata": {},
   "outputs": [],
   "source": []
  }
 ],
 "metadata": {
  "kernelspec": {
   "display_name": "Python 3 (ipykernel)",
   "language": "python",
   "name": "python3"
  },
  "language_info": {
   "codemirror_mode": {
    "name": "ipython",
    "version": 3
   },
   "file_extension": ".py",
   "mimetype": "text/x-python",
   "name": "python",
   "nbconvert_exporter": "python",
   "pygments_lexer": "ipython3",
   "version": "3.10.12"
  }
 },
 "nbformat": 4,
 "nbformat_minor": 2
}
